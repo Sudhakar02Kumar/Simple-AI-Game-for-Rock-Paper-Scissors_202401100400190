import random

# Function to randomly select the computer's move
def get_computer_choice():
    # The computer randomly chooses between 'rock', 'paper', or 'scissors'
    return random.choice(["rock", "paper", "scissors"])

# Function to determine the winner of the game based on player and computer choices
def determine_winner(player, computer):
    # Check if the player's and computer's choices are the same
    if player == computer:
        return "It's a tie!"
    # Check if the player wins (rock beats scissors, scissors beats paper, paper beats rock)
    elif (player == "rock" and computer == "scissors") or \
         (player == "scissors" and computer == "paper") or \
         (player == "paper" and computer == "rock"):
        return "You win!"
    # If the player doesn't win, the computer wins
    else:
        return "Computer wins!"

# Main function to run the game
def main():
    print("Welcome to Rock-Paper-Scissors!")
    
    # Start an infinite loop to play multiple rounds
    while True:
        # Ask the player for their choice and convert it to lowercase
        player_choice = input("Enter rock, paper, or scissors (or 'quit' to exit): ").lower()
        
        # Exit the game if the player types 'quit'
        if player_choice == "quit":
            print("Thanks for playing!")
            break
        
        # Validate that the player's choice is valid
        if player_choice not in ["rock", "paper", "scissors"]:
            print("Invalid choice. Try again.")
            continue

        # Get the computer's choice
        computer_choice = get_computer_choice()
        
        # Print the computer's choice
        print(f"Computer chose: {computer_choice}")
        
        # Determine the winner and print the result
        result = determine_winner(player_choice, computer_choice)
        print(result)
        
        # Print a separator line to make the output easier to read
        print("-" * 30)

# Run the main function when the script is executed
if __name__ == "__main__":
    main()
