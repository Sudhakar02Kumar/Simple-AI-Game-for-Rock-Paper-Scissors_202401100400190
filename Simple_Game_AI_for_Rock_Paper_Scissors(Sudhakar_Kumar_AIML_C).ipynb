{
  "nbformat": 4,
  "nbformat_minor": 0,
  "metadata": {
    "colab": {
      "provenance": []
    },
    "kernelspec": {
      "name": "python3",
      "display_name": "Python 3"
    },
    "language_info": {
      "name": "python"
    }
  },
  "cells": [
    {
      "cell_type": "code",
      "execution_count": 4,
      "metadata": {
        "colab": {
          "base_uri": "https://localhost:8080/"
        },
        "id": "NBcXRyJgOUm1",
        "outputId": "aa1e05ce-3322-4ed5-8a5f-db6c4b8dd859"
      },
      "outputs": [
        {
          "output_type": "stream",
          "name": "stdout",
          "text": [
            "Welcome to Rock-Paper-Scissors!\n",
            "Enter rock, paper, or scissors (or 'quit' to exit): rock\n",
            "Computer chose: paper\n",
            "Computer wins!\n",
            "------------------------------\n",
            "Enter rock, paper, or scissors (or 'quit' to exit): paper\n",
            "Computer chose: scissors\n",
            "Computer wins!\n",
            "------------------------------\n",
            "Enter rock, paper, or scissors (or 'quit' to exit): quit\n",
            "Thanks for playing!\n"
          ]
        }
      ],
      "source": [
        "import random\n",
        "\n",
        "# Function to randomly select the computer's move\n",
        "def get_computer_choice():\n",
        "    # The computer randomly chooses between 'rock', 'paper', or 'scissors'\n",
        "    return random.choice([\"rock\", \"paper\", \"scissors\"])\n",
        "\n",
        "# Function to determine the winner of the game based on player and computer choices\n",
        "def determine_winner(player, computer):\n",
        "    # Check if the player's and computer's choices are the same\n",
        "    if player == computer:\n",
        "        return \"It's a tie!\"\n",
        "    # Check if the player wins (rock beats scissors, scissors beats paper, paper beats rock)\n",
        "    elif (player == \"rock\" and computer == \"scissors\") or \\\n",
        "         (player == \"scissors\" and computer == \"paper\") or \\\n",
        "         (player == \"paper\" and computer == \"rock\"):\n",
        "        return \"You win!\"\n",
        "    # If the player doesn't win, the computer wins\n",
        "    else:\n",
        "        return \"Computer wins!\"\n",
        "\n",
        "# Main function to run the game\n",
        "def main():\n",
        "    print(\"Welcome to Rock-Paper-Scissors!\")\n",
        "\n",
        "    # Start an infinite loop to play multiple rounds\n",
        "    while True:\n",
        "        # Ask the player for their choice and convert it to lowercase\n",
        "        player_choice = input(\"Enter rock, paper, or scissors (or 'quit' to exit): \").lower()\n",
        "\n",
        "        # Exit the game if the player types 'quit'\n",
        "        if player_choice == \"quit\":\n",
        "            print(\"Thanks for playing!\")\n",
        "            break\n",
        "\n",
        "        # Validate that the player's choice is valid\n",
        "        if player_choice not in [\"rock\", \"paper\", \"scissors\"]:\n",
        "            print(\"Invalid choice. Try again.\")\n",
        "            continue\n",
        "\n",
        "        # Get the computer's choice\n",
        "        computer_choice = get_computer_choice()\n",
        "\n",
        "        # Print the computer's choice\n",
        "        print(f\"Computer chose: {computer_choice}\")\n",
        "\n",
        "        # Determine the winner and print the result\n",
        "        result = determine_winner(player_choice, computer_choice)\n",
        "        print(result)\n",
        "\n",
        "        # Print a separator line to make the output easier to read\n",
        "        print(\"-\" * 30)\n",
        "\n",
        "# Run the main function when the script is executed\n",
        "if __name__ == \"__main__\":\n",
        "    main()\n"
      ]
    }
  ]
}